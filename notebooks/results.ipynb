{
 "cells": [
  {
   "cell_type": "markdown",
   "source": [],
   "metadata": {
    "collapsed": false
   },
   "id": "babd4478553bbdef"
  },
  {
   "cell_type": "markdown",
   "source": [
    "# results.ipynb\n",
    "\n",
    "## Qualitative Results and Predictions Demonstration\n",
    "#"
   ],
   "metadata": {
    "collapsed": false
   },
   "id": "2c617a897e242e7a"
  },
  {
   "cell_type": "code",
   "execution_count": 11,
   "outputs": [],
   "source": [
    "import os\n",
    "import json\n",
    "import pandas as pd\n",
    "import numpy as np\n",
    "import torch\n",
    "from torch.utils.data import Dataset, DataLoader\n",
    "import torch.nn as nn\n",
    "from sklearn.metrics import confusion_matrix, ConfusionMatrixDisplay, classification_report\n",
    "import matplotlib.pyplot as plt\n",
    "from sklearn.preprocessing import MultiLabelBinarizer"
   ],
   "metadata": {
    "collapsed": false,
    "ExecuteTime": {
     "end_time": "2024-12-08T17:52:32.873378Z",
     "start_time": "2024-12-08T17:52:32.853081Z"
    }
   },
   "id": "2647ae7139711b8d"
  },
  {
   "cell_type": "code",
   "execution_count": 12,
   "outputs": [
    {
     "name": "stdout",
     "output_type": "stream",
     "text": [
      "Loaded test set with 20 samples.\n"
     ]
    }
   ],
   "source": [
    "test_path = \"../data/processed/test.jsonl\"\n",
    "assert os.path.exists(test_path), \"Test file not found. Run preprocess and training steps first.\"\n",
    "\n",
    "test_df = pd.read_json(test_path, lines=True)\n",
    "print(f\"Loaded test set with {len(test_df)} samples.\")\n"
   ],
   "metadata": {
    "collapsed": false,
    "ExecuteTime": {
     "end_time": "2024-12-08T17:52:33.553236Z",
     "start_time": "2024-12-08T17:52:33.547317Z"
    }
   },
   "id": "d28c72e85c59d91f"
  },
  {
   "cell_type": "markdown",
   "source": [
    "## Load Phenotype/Gene Classes"
   ],
   "metadata": {
    "collapsed": false
   },
   "id": "9d2727aa211cdd45"
  },
  {
   "cell_type": "code",
   "execution_count": 13,
   "outputs": [
    {
     "data": {
      "text/plain": "MultiLabelBinarizer(classes=['ENSG00000012048', 'ENSG00000080815',\n                             'ENSG00000121879', 'ENSG00000123374',\n                             'ENSG00000133703', 'ENSG00000134982',\n                             'ENSG00000136997', 'ENSG00000141510',\n                             'ENSG00000142192', 'ENSG00000144285',\n                             'ENSG00000146648', 'ENSG00000157764',\n                             'ENSG00000177628', 'ENSG00000186868',\n                             'ENSG00000188906'])",
      "text/html": "<style>#sk-container-id-2 {\n  /* Definition of color scheme common for light and dark mode */\n  --sklearn-color-text: black;\n  --sklearn-color-line: gray;\n  /* Definition of color scheme for unfitted estimators */\n  --sklearn-color-unfitted-level-0: #fff5e6;\n  --sklearn-color-unfitted-level-1: #f6e4d2;\n  --sklearn-color-unfitted-level-2: #ffe0b3;\n  --sklearn-color-unfitted-level-3: chocolate;\n  /* Definition of color scheme for fitted estimators */\n  --sklearn-color-fitted-level-0: #f0f8ff;\n  --sklearn-color-fitted-level-1: #d4ebff;\n  --sklearn-color-fitted-level-2: #b3dbfd;\n  --sklearn-color-fitted-level-3: cornflowerblue;\n\n  /* Specific color for light theme */\n  --sklearn-color-text-on-default-background: var(--sg-text-color, var(--theme-code-foreground, var(--jp-content-font-color1, black)));\n  --sklearn-color-background: var(--sg-background-color, var(--theme-background, var(--jp-layout-color0, white)));\n  --sklearn-color-border-box: var(--sg-text-color, var(--theme-code-foreground, var(--jp-content-font-color1, black)));\n  --sklearn-color-icon: #696969;\n\n  @media (prefers-color-scheme: dark) {\n    /* Redefinition of color scheme for dark theme */\n    --sklearn-color-text-on-default-background: var(--sg-text-color, var(--theme-code-foreground, var(--jp-content-font-color1, white)));\n    --sklearn-color-background: var(--sg-background-color, var(--theme-background, var(--jp-layout-color0, #111)));\n    --sklearn-color-border-box: var(--sg-text-color, var(--theme-code-foreground, var(--jp-content-font-color1, white)));\n    --sklearn-color-icon: #878787;\n  }\n}\n\n#sk-container-id-2 {\n  color: var(--sklearn-color-text);\n}\n\n#sk-container-id-2 pre {\n  padding: 0;\n}\n\n#sk-container-id-2 input.sk-hidden--visually {\n  border: 0;\n  clip: rect(1px 1px 1px 1px);\n  clip: rect(1px, 1px, 1px, 1px);\n  height: 1px;\n  margin: -1px;\n  overflow: hidden;\n  padding: 0;\n  position: absolute;\n  width: 1px;\n}\n\n#sk-container-id-2 div.sk-dashed-wrapped {\n  border: 1px dashed var(--sklearn-color-line);\n  margin: 0 0.4em 0.5em 0.4em;\n  box-sizing: border-box;\n  padding-bottom: 0.4em;\n  background-color: var(--sklearn-color-background);\n}\n\n#sk-container-id-2 div.sk-container {\n  /* jupyter's `normalize.less` sets `[hidden] { display: none; }`\n     but bootstrap.min.css set `[hidden] { display: none !important; }`\n     so we also need the `!important` here to be able to override the\n     default hidden behavior on the sphinx rendered scikit-learn.org.\n     See: https://github.com/scikit-learn/scikit-learn/issues/21755 */\n  display: inline-block !important;\n  position: relative;\n}\n\n#sk-container-id-2 div.sk-text-repr-fallback {\n  display: none;\n}\n\ndiv.sk-parallel-item,\ndiv.sk-serial,\ndiv.sk-item {\n  /* draw centered vertical line to link estimators */\n  background-image: linear-gradient(var(--sklearn-color-text-on-default-background), var(--sklearn-color-text-on-default-background));\n  background-size: 2px 100%;\n  background-repeat: no-repeat;\n  background-position: center center;\n}\n\n/* Parallel-specific style estimator block */\n\n#sk-container-id-2 div.sk-parallel-item::after {\n  content: \"\";\n  width: 100%;\n  border-bottom: 2px solid var(--sklearn-color-text-on-default-background);\n  flex-grow: 1;\n}\n\n#sk-container-id-2 div.sk-parallel {\n  display: flex;\n  align-items: stretch;\n  justify-content: center;\n  background-color: var(--sklearn-color-background);\n  position: relative;\n}\n\n#sk-container-id-2 div.sk-parallel-item {\n  display: flex;\n  flex-direction: column;\n}\n\n#sk-container-id-2 div.sk-parallel-item:first-child::after {\n  align-self: flex-end;\n  width: 50%;\n}\n\n#sk-container-id-2 div.sk-parallel-item:last-child::after {\n  align-self: flex-start;\n  width: 50%;\n}\n\n#sk-container-id-2 div.sk-parallel-item:only-child::after {\n  width: 0;\n}\n\n/* Serial-specific style estimator block */\n\n#sk-container-id-2 div.sk-serial {\n  display: flex;\n  flex-direction: column;\n  align-items: center;\n  background-color: var(--sklearn-color-background);\n  padding-right: 1em;\n  padding-left: 1em;\n}\n\n\n/* Toggleable style: style used for estimator/Pipeline/ColumnTransformer box that is\nclickable and can be expanded/collapsed.\n- Pipeline and ColumnTransformer use this feature and define the default style\n- Estimators will overwrite some part of the style using the `sk-estimator` class\n*/\n\n/* Pipeline and ColumnTransformer style (default) */\n\n#sk-container-id-2 div.sk-toggleable {\n  /* Default theme specific background. It is overwritten whether we have a\n  specific estimator or a Pipeline/ColumnTransformer */\n  background-color: var(--sklearn-color-background);\n}\n\n/* Toggleable label */\n#sk-container-id-2 label.sk-toggleable__label {\n  cursor: pointer;\n  display: block;\n  width: 100%;\n  margin-bottom: 0;\n  padding: 0.5em;\n  box-sizing: border-box;\n  text-align: center;\n}\n\n#sk-container-id-2 label.sk-toggleable__label-arrow:before {\n  /* Arrow on the left of the label */\n  content: \"▸\";\n  float: left;\n  margin-right: 0.25em;\n  color: var(--sklearn-color-icon);\n}\n\n#sk-container-id-2 label.sk-toggleable__label-arrow:hover:before {\n  color: var(--sklearn-color-text);\n}\n\n/* Toggleable content - dropdown */\n\n#sk-container-id-2 div.sk-toggleable__content {\n  max-height: 0;\n  max-width: 0;\n  overflow: hidden;\n  text-align: left;\n  /* unfitted */\n  background-color: var(--sklearn-color-unfitted-level-0);\n}\n\n#sk-container-id-2 div.sk-toggleable__content.fitted {\n  /* fitted */\n  background-color: var(--sklearn-color-fitted-level-0);\n}\n\n#sk-container-id-2 div.sk-toggleable__content pre {\n  margin: 0.2em;\n  border-radius: 0.25em;\n  color: var(--sklearn-color-text);\n  /* unfitted */\n  background-color: var(--sklearn-color-unfitted-level-0);\n}\n\n#sk-container-id-2 div.sk-toggleable__content.fitted pre {\n  /* unfitted */\n  background-color: var(--sklearn-color-fitted-level-0);\n}\n\n#sk-container-id-2 input.sk-toggleable__control:checked~div.sk-toggleable__content {\n  /* Expand drop-down */\n  max-height: 200px;\n  max-width: 100%;\n  overflow: auto;\n}\n\n#sk-container-id-2 input.sk-toggleable__control:checked~label.sk-toggleable__label-arrow:before {\n  content: \"▾\";\n}\n\n/* Pipeline/ColumnTransformer-specific style */\n\n#sk-container-id-2 div.sk-label input.sk-toggleable__control:checked~label.sk-toggleable__label {\n  color: var(--sklearn-color-text);\n  background-color: var(--sklearn-color-unfitted-level-2);\n}\n\n#sk-container-id-2 div.sk-label.fitted input.sk-toggleable__control:checked~label.sk-toggleable__label {\n  background-color: var(--sklearn-color-fitted-level-2);\n}\n\n/* Estimator-specific style */\n\n/* Colorize estimator box */\n#sk-container-id-2 div.sk-estimator input.sk-toggleable__control:checked~label.sk-toggleable__label {\n  /* unfitted */\n  background-color: var(--sklearn-color-unfitted-level-2);\n}\n\n#sk-container-id-2 div.sk-estimator.fitted input.sk-toggleable__control:checked~label.sk-toggleable__label {\n  /* fitted */\n  background-color: var(--sklearn-color-fitted-level-2);\n}\n\n#sk-container-id-2 div.sk-label label.sk-toggleable__label,\n#sk-container-id-2 div.sk-label label {\n  /* The background is the default theme color */\n  color: var(--sklearn-color-text-on-default-background);\n}\n\n/* On hover, darken the color of the background */\n#sk-container-id-2 div.sk-label:hover label.sk-toggleable__label {\n  color: var(--sklearn-color-text);\n  background-color: var(--sklearn-color-unfitted-level-2);\n}\n\n/* Label box, darken color on hover, fitted */\n#sk-container-id-2 div.sk-label.fitted:hover label.sk-toggleable__label.fitted {\n  color: var(--sklearn-color-text);\n  background-color: var(--sklearn-color-fitted-level-2);\n}\n\n/* Estimator label */\n\n#sk-container-id-2 div.sk-label label {\n  font-family: monospace;\n  font-weight: bold;\n  display: inline-block;\n  line-height: 1.2em;\n}\n\n#sk-container-id-2 div.sk-label-container {\n  text-align: center;\n}\n\n/* Estimator-specific */\n#sk-container-id-2 div.sk-estimator {\n  font-family: monospace;\n  border: 1px dotted var(--sklearn-color-border-box);\n  border-radius: 0.25em;\n  box-sizing: border-box;\n  margin-bottom: 0.5em;\n  /* unfitted */\n  background-color: var(--sklearn-color-unfitted-level-0);\n}\n\n#sk-container-id-2 div.sk-estimator.fitted {\n  /* fitted */\n  background-color: var(--sklearn-color-fitted-level-0);\n}\n\n/* on hover */\n#sk-container-id-2 div.sk-estimator:hover {\n  /* unfitted */\n  background-color: var(--sklearn-color-unfitted-level-2);\n}\n\n#sk-container-id-2 div.sk-estimator.fitted:hover {\n  /* fitted */\n  background-color: var(--sklearn-color-fitted-level-2);\n}\n\n/* Specification for estimator info (e.g. \"i\" and \"?\") */\n\n/* Common style for \"i\" and \"?\" */\n\n.sk-estimator-doc-link,\na:link.sk-estimator-doc-link,\na:visited.sk-estimator-doc-link {\n  float: right;\n  font-size: smaller;\n  line-height: 1em;\n  font-family: monospace;\n  background-color: var(--sklearn-color-background);\n  border-radius: 1em;\n  height: 1em;\n  width: 1em;\n  text-decoration: none !important;\n  margin-left: 1ex;\n  /* unfitted */\n  border: var(--sklearn-color-unfitted-level-1) 1pt solid;\n  color: var(--sklearn-color-unfitted-level-1);\n}\n\n.sk-estimator-doc-link.fitted,\na:link.sk-estimator-doc-link.fitted,\na:visited.sk-estimator-doc-link.fitted {\n  /* fitted */\n  border: var(--sklearn-color-fitted-level-1) 1pt solid;\n  color: var(--sklearn-color-fitted-level-1);\n}\n\n/* On hover */\ndiv.sk-estimator:hover .sk-estimator-doc-link:hover,\n.sk-estimator-doc-link:hover,\ndiv.sk-label-container:hover .sk-estimator-doc-link:hover,\n.sk-estimator-doc-link:hover {\n  /* unfitted */\n  background-color: var(--sklearn-color-unfitted-level-3);\n  color: var(--sklearn-color-background);\n  text-decoration: none;\n}\n\ndiv.sk-estimator.fitted:hover .sk-estimator-doc-link.fitted:hover,\n.sk-estimator-doc-link.fitted:hover,\ndiv.sk-label-container:hover .sk-estimator-doc-link.fitted:hover,\n.sk-estimator-doc-link.fitted:hover {\n  /* fitted */\n  background-color: var(--sklearn-color-fitted-level-3);\n  color: var(--sklearn-color-background);\n  text-decoration: none;\n}\n\n/* Span, style for the box shown on hovering the info icon */\n.sk-estimator-doc-link span {\n  display: none;\n  z-index: 9999;\n  position: relative;\n  font-weight: normal;\n  right: .2ex;\n  padding: .5ex;\n  margin: .5ex;\n  width: min-content;\n  min-width: 20ex;\n  max-width: 50ex;\n  color: var(--sklearn-color-text);\n  box-shadow: 2pt 2pt 4pt #999;\n  /* unfitted */\n  background: var(--sklearn-color-unfitted-level-0);\n  border: .5pt solid var(--sklearn-color-unfitted-level-3);\n}\n\n.sk-estimator-doc-link.fitted span {\n  /* fitted */\n  background: var(--sklearn-color-fitted-level-0);\n  border: var(--sklearn-color-fitted-level-3);\n}\n\n.sk-estimator-doc-link:hover span {\n  display: block;\n}\n\n/* \"?\"-specific style due to the `<a>` HTML tag */\n\n#sk-container-id-2 a.estimator_doc_link {\n  float: right;\n  font-size: 1rem;\n  line-height: 1em;\n  font-family: monospace;\n  background-color: var(--sklearn-color-background);\n  border-radius: 1rem;\n  height: 1rem;\n  width: 1rem;\n  text-decoration: none;\n  /* unfitted */\n  color: var(--sklearn-color-unfitted-level-1);\n  border: var(--sklearn-color-unfitted-level-1) 1pt solid;\n}\n\n#sk-container-id-2 a.estimator_doc_link.fitted {\n  /* fitted */\n  border: var(--sklearn-color-fitted-level-1) 1pt solid;\n  color: var(--sklearn-color-fitted-level-1);\n}\n\n/* On hover */\n#sk-container-id-2 a.estimator_doc_link:hover {\n  /* unfitted */\n  background-color: var(--sklearn-color-unfitted-level-3);\n  color: var(--sklearn-color-background);\n  text-decoration: none;\n}\n\n#sk-container-id-2 a.estimator_doc_link.fitted:hover {\n  /* fitted */\n  background-color: var(--sklearn-color-fitted-level-3);\n}\n</style><div id=\"sk-container-id-2\" class=\"sk-top-container\"><div class=\"sk-text-repr-fallback\"><pre>MultiLabelBinarizer(classes=[&#x27;ENSG00000012048&#x27;, &#x27;ENSG00000080815&#x27;,\n                             &#x27;ENSG00000121879&#x27;, &#x27;ENSG00000123374&#x27;,\n                             &#x27;ENSG00000133703&#x27;, &#x27;ENSG00000134982&#x27;,\n                             &#x27;ENSG00000136997&#x27;, &#x27;ENSG00000141510&#x27;,\n                             &#x27;ENSG00000142192&#x27;, &#x27;ENSG00000144285&#x27;,\n                             &#x27;ENSG00000146648&#x27;, &#x27;ENSG00000157764&#x27;,\n                             &#x27;ENSG00000177628&#x27;, &#x27;ENSG00000186868&#x27;,\n                             &#x27;ENSG00000188906&#x27;])</pre><b>In a Jupyter environment, please rerun this cell to show the HTML representation or trust the notebook. <br />On GitHub, the HTML representation is unable to render, please try loading this page with nbviewer.org.</b></div><div class=\"sk-container\" hidden><div class=\"sk-item\"><div class=\"sk-estimator fitted sk-toggleable\"><input class=\"sk-toggleable__control sk-hidden--visually\" id=\"sk-estimator-id-2\" type=\"checkbox\" checked><label for=\"sk-estimator-id-2\" class=\"sk-toggleable__label fitted sk-toggleable__label-arrow fitted\">&nbsp;&nbsp;MultiLabelBinarizer<a class=\"sk-estimator-doc-link fitted\" rel=\"noreferrer\" target=\"_blank\" href=\"https://scikit-learn.org/1.5/modules/generated/sklearn.preprocessing.MultiLabelBinarizer.html\">?<span>Documentation for MultiLabelBinarizer</span></a><span class=\"sk-estimator-doc-link fitted\">i<span>Fitted</span></span></label><div class=\"sk-toggleable__content fitted\"><pre>MultiLabelBinarizer(classes=[&#x27;ENSG00000012048&#x27;, &#x27;ENSG00000080815&#x27;,\n                             &#x27;ENSG00000121879&#x27;, &#x27;ENSG00000123374&#x27;,\n                             &#x27;ENSG00000133703&#x27;, &#x27;ENSG00000134982&#x27;,\n                             &#x27;ENSG00000136997&#x27;, &#x27;ENSG00000141510&#x27;,\n                             &#x27;ENSG00000142192&#x27;, &#x27;ENSG00000144285&#x27;,\n                             &#x27;ENSG00000146648&#x27;, &#x27;ENSG00000157764&#x27;,\n                             &#x27;ENSG00000177628&#x27;, &#x27;ENSG00000186868&#x27;,\n                             &#x27;ENSG00000188906&#x27;])</pre></div> </div></div></div></div>"
     },
     "execution_count": 13,
     "metadata": {},
     "output_type": "execute_result"
    }
   ],
   "source": [
    "train_path = \"../data/processed/train.jsonl\"\n",
    "val_path = \"../data/processed/val.jsonl\"\n",
    "train_df = pd.read_json(train_path, lines=True)\n",
    "val_df = pd.read_json(val_path, lines=True)\n",
    "combined_df = pd.concat([train_df, val_df], axis=0)\n",
    "\n",
    "all_phenos = set()\n",
    "all_genes = set()\n",
    "\n",
    "for ph_list in combined_df['positive_phenotypes']:\n",
    "    all_phenos.update(ph_list)\n",
    "for gene_list in combined_df['all_candidate_genes']:\n",
    "    all_genes.update(gene_list)\n",
    "\n",
    "pheno_classes = sorted(list(all_phenos))\n",
    "gene_classes = sorted(list(all_genes))\n",
    "\n",
    "pheno_mlb = MultiLabelBinarizer(classes=pheno_classes)\n",
    "gene_mlb = MultiLabelBinarizer(classes=gene_classes)\n",
    "\n",
    "# Fit on combined and transform test\n",
    "pheno_mlb.fit(combined_df['positive_phenotypes'])\n",
    "gene_mlb.fit(combined_df['all_candidate_genes'])\n"
   ],
   "metadata": {
    "collapsed": false,
    "ExecuteTime": {
     "end_time": "2024-12-08T17:52:35.897811Z",
     "start_time": "2024-12-08T17:52:35.888106Z"
    }
   },
   "id": "c583862cdf49bf9c"
  },
  {
   "cell_type": "markdown",
   "source": [
    "## Define Dataset Class"
   ],
   "metadata": {
    "collapsed": false
   },
   "id": "8a62ed38b67a7b42"
  },
  {
   "cell_type": "code",
   "execution_count": 14,
   "outputs": [],
   "source": [
    "class PatientDataset(Dataset):\n",
    "    def __init__(self, dataframe, pheno_mlb, gene_mlb):\n",
    "        self.data = dataframe.copy()\n",
    "        self.pheno_mlb = pheno_mlb\n",
    "        self.gene_mlb = gene_mlb\n",
    "        self.data['pheno_vec'] = list(self.pheno_mlb.transform(self.data['positive_phenotypes']))\n",
    "        self.data['gene_vec'] = list(self.gene_mlb.transform(self.data['all_candidate_genes']))\n",
    "\n",
    "    def __len__(self):\n",
    "        return len(self.data)\n",
    "\n",
    "    def __getitem__(self, idx):\n",
    "        row = self.data.iloc[idx]\n",
    "        pheno_vec = torch.tensor(row['pheno_vec'], dtype=torch.float32)\n",
    "        gene_vec = torch.tensor(row['gene_vec'], dtype=torch.float32)\n",
    "        x = torch.cat([pheno_vec, gene_vec])\n",
    "        y = torch.tensor([1.0 if row['true_diseases'] != 0 else 0.0], dtype=torch.float32)\n",
    "        return x, y\n"
   ],
   "metadata": {
    "collapsed": false,
    "ExecuteTime": {
     "end_time": "2024-12-08T17:52:37.875352Z",
     "start_time": "2024-12-08T17:52:37.872458Z"
    }
   },
   "id": "3b2a543fa59e81ac"
  },
  {
   "cell_type": "markdown",
   "source": [
    "## Load the MLP Model"
   ],
   "metadata": {
    "collapsed": false
   },
   "id": "3ac85912f91549d7"
  },
  {
   "cell_type": "code",
   "execution_count": 19,
   "outputs": [
    {
     "name": "stdout",
     "output_type": "stream",
     "text": [
      "pheno_len=23, gene_len=15, clinical_len=14, input_dim=52\n",
      "Model loaded successfully without size mismatch.\n"
     ]
    },
    {
     "name": "stderr",
     "output_type": "stream",
     "text": [
      "/var/folders/2d/np4wwh1x1njfn0hsd42hqll00000gn/T/ipykernel_68967/1770399551.py:62: FutureWarning: You are using `torch.load` with `weights_only=False` (the current default value), which uses the default pickle module implicitly. It is possible to construct malicious pickle data which will execute arbitrary code during unpickling (See https://github.com/pytorch/pytorch/blob/main/SECURITY.md#untrusted-models for more details). In a future release, the default value for `weights_only` will be flipped to `True`. This limits the functions that could be executed during unpickling. Arbitrary objects will no longer be allowed to be loaded via this mode unless they are explicitly allowlisted by the user via `torch.serialization.add_safe_globals`. We recommend you start setting `weights_only=True` for any use case where you don't have full control of the loaded file. Please open an issue on GitHub for any issues related to this experimental feature.\n",
      "  model.load_state_dict(torch.load(model_path))\n"
     ]
    }
   ],
   "source": [
    "train_path = \"../data/processed/train.jsonl\"\n",
    "val_path = \"../data/processed/val.jsonl\"\n",
    "test_path = \"../data/processed/test.jsonl\"\n",
    "\n",
    "assert os.path.exists(train_path), \"train.jsonl not found.\"\n",
    "assert os.path.exists(val_path), \"val.jsonl not found.\"\n",
    "assert os.path.exists(test_path), \"test.jsonl not found.\"\n",
    "\n",
    "train_df = pd.read_json(train_path, lines=True)\n",
    "val_df = pd.read_json(val_path, lines=True)\n",
    "test_df = pd.read_json(test_path, lines=True)\n",
    "\n",
    "\n",
    "# Collect classes as done in train_model.py\n",
    "def collect_all_classes(paths):\n",
    "    phenos = set()\n",
    "    genes = set()\n",
    "    for p in paths:\n",
    "        df = pd.read_json(p, lines=True)\n",
    "        for ph in df['positive_phenotypes']:\n",
    "            phenos.update(ph)\n",
    "        for gset in df['all_candidate_genes']:\n",
    "            genes.update(gset)\n",
    "    return sorted(list(phenos)), sorted(list(genes))\n",
    "\n",
    "\n",
    "pheno_classes, gene_classes = collect_all_classes([train_path, val_path, test_path])\n",
    "pheno_len = len(pheno_classes)\n",
    "gene_len = len(gene_classes)\n",
    "\n",
    "# Get clinical_len from a sample in the training set (as done in train_model.py)\n",
    "sample_record = train_df.iloc[0]\n",
    "clinical_len = len(sample_record['clinical_vec'])\n",
    "\n",
    "input_dim = pheno_len + gene_len + clinical_len\n",
    "print(f\"pheno_len={pheno_len}, gene_len={gene_len}, clinical_len={clinical_len}, input_dim={input_dim}\")\n",
    "\n",
    "# Define the MLP model class exactly as in `train_model.py`.\n",
    "\n",
    "import torch.nn as nn\n",
    "import torch\n",
    "\n",
    "\n",
    "class SimpleMLP(nn.Module):\n",
    "    def __init__(self, input_dim, hidden_dim=128):\n",
    "        super(SimpleMLP, self).__init__()\n",
    "        self.fc1 = nn.Linear(input_dim, hidden_dim)\n",
    "        self.relu = nn.ReLU()\n",
    "        self.fc2 = nn.Linear(hidden_dim, 1)\n",
    "        self.sig = nn.Sigmoid()\n",
    "\n",
    "    def forward(self, x):\n",
    "        x = self.relu(self.fc1(x))\n",
    "        x = self.sig(self.fc2(x))\n",
    "        return x\n",
    "\n",
    "\n",
    "model_path = \"../data/model/neuro_model.pt\"\n",
    "assert os.path.exists(model_path), \"Model weights not found. Run training first.\"\n",
    "\n",
    "model = SimpleMLP(input_dim=input_dim, hidden_dim=128)\n",
    "model.load_state_dict(torch.load(model_path))\n",
    "model.eval()\n",
    "print(\"Model loaded successfully without size mismatch.\")\n"
   ],
   "metadata": {
    "collapsed": false,
    "ExecuteTime": {
     "end_time": "2024-12-08T17:59:29.918477Z",
     "start_time": "2024-12-08T17:59:29.905201Z"
    }
   },
   "id": "a7b389890dc19162"
  },
  {
   "cell_type": "markdown",
   "source": [
    "##  Create a DataLoader for the Test Set"
   ],
   "metadata": {
    "collapsed": false
   },
   "id": "84437187f0af43cb"
  },
  {
   "cell_type": "code",
   "execution_count": 20,
   "outputs": [],
   "source": [
    "from torch.utils.data import Dataset, DataLoader\n",
    "from sklearn.preprocessing import MultiLabelBinarizer\n",
    "\n",
    "# Initialize MLBs the same way as training\n",
    "pheno_mlb = MultiLabelBinarizer(classes=pheno_classes)\n",
    "gene_mlb = MultiLabelBinarizer(classes=gene_classes)\n",
    "pheno_mlb.fit(train_df['positive_phenotypes'])  # Fit on train (consistency with training)\n",
    "gene_mlb.fit(train_df['all_candidate_genes'])\n",
    "\n",
    "class PatientDataset(Dataset):\n",
    "    def __init__(self, dataframe, pheno_mlb, gene_mlb):\n",
    "        self.data = dataframe.copy()\n",
    "        # Transform phenotypes and genes\n",
    "        self.data['pheno_vec'] = list(pheno_mlb.transform(self.data['positive_phenotypes']))\n",
    "        self.data['gene_vec'] = list(gene_mlb.transform(self.data['all_candidate_genes']))\n",
    "\n",
    "    def __len__(self):\n",
    "        return len(self.data)\n",
    "\n",
    "    def __getitem__(self, idx):\n",
    "        row = self.data.iloc[idx]\n",
    "        pheno_vec = torch.tensor(row['pheno_vec'], dtype=torch.float32)\n",
    "        gene_vec = torch.tensor(row['gene_vec'], dtype=torch.float32)\n",
    "        clinical_vec = torch.tensor(row['clinical_vec'], dtype=torch.float32)  # Include clinical_vec\n",
    "        x = torch.cat([pheno_vec, gene_vec, clinical_vec])\n",
    "        y = torch.tensor([1.0 if row['true_diseases'] != 0 else 0.0], dtype=torch.float32)\n",
    "        return x, y\n",
    "\n",
    "test_data = PatientDataset(test_df, pheno_mlb, gene_mlb)\n",
    "test_loader = DataLoader(test_data, batch_size=32, shuffle=False)"
   ],
   "metadata": {
    "collapsed": false,
    "ExecuteTime": {
     "end_time": "2024-12-08T18:00:33.210171Z",
     "start_time": "2024-12-08T18:00:33.201617Z"
    }
   },
   "id": "7004104f1dd78604"
  },
  {
   "cell_type": "markdown",
   "source": [
    "## Generate Predictions on the Test Set"
   ],
   "metadata": {
    "collapsed": false
   },
   "id": "5417aca5dc61faea"
  },
  {
   "cell_type": "code",
   "execution_count": 21,
   "outputs": [],
   "source": [
    "all_preds = []\n",
    "all_truth = []\n",
    "with torch.no_grad():\n",
    "    for Xb, yb in test_loader:\n",
    "        preds = model(Xb)\n",
    "        predicted = (preds >= 0.5).float().flatten().tolist()\n",
    "        truth = yb.flatten().tolist()\n",
    "        all_preds.extend(predicted)\n",
    "        all_truth.extend(truth)\n",
    "\n",
    "all_preds = np.array(all_preds)\n",
    "all_truth = np.array(all_truth)"
   ],
   "metadata": {
    "collapsed": false,
    "ExecuteTime": {
     "end_time": "2024-12-08T18:00:58.809664Z",
     "start_time": "2024-12-08T18:00:58.798765Z"
    }
   },
   "id": "d37a35a92a98c72a"
  },
  {
   "cell_type": "code",
   "execution_count": 22,
   "outputs": [
    {
     "name": "stdout",
     "output_type": "stream",
     "text": [
      "Classification Report (Test Set):\n",
      "              precision    recall  f1-score   support\n",
      "\n",
      "         0.0       1.00      0.33      0.50         6\n",
      "         1.0       0.78      1.00      0.88        14\n",
      "\n",
      "    accuracy                           0.80        20\n",
      "   macro avg       0.89      0.67      0.69        20\n",
      "weighted avg       0.84      0.80      0.76        20\n"
     ]
    },
    {
     "data": {
      "text/plain": "<Figure size 640x480 with 2 Axes>",
      "image/png": "[encoded data removed]"
     },
     "metadata": {},
     "output_type": "display_data"
    }
   ],
   "source": [
    "from sklearn.metrics import confusion_matrix, ConfusionMatrixDisplay, classification_report\n",
    "import matplotlib.pyplot as plt\n",
    "\n",
    "print(\"Classification Report (Test Set):\")\n",
    "print(classification_report(all_truth, all_preds, zero_division=0))\n",
    "\n",
    "cm = confusion_matrix(all_truth, all_preds)\n",
    "disp = ConfusionMatrixDisplay(confusion_matrix=cm, display_labels=[\"No Disease\", \"Disease\"])\n",
    "disp.plot(cmap=plt.cm.Blues)\n",
    "plt.title(\"Confusion Matrix - Test Set\")\n",
    "plt.show()\n"
   ],
   "metadata": {
    "collapsed": false,
    "ExecuteTime": {
     "end_time": "2024-12-08T18:01:16.348901Z",
     "start_time": "2024-12-08T18:01:16.231272Z"
    }
   },
   "id": "f139cb931a698755"
  },
  {
   "cell_type": "markdown",
   "source": [
    "## Inspect Individual Samples"
   ],
   "metadata": {
    "collapsed": false
   },
   "id": "ff468825d949df63"
  },
  {
   "cell_type": "code",
   "execution_count": 23,
   "outputs": [
    {
     "name": "stdout",
     "output_type": "stream",
     "text": [
      "---------\n",
      "Patient ID: 463\n",
      "True Label: Disease\n",
      "Predicted:  Disease\n",
      "Phenotypes: ['HP:0002076', 'HP:0002571', 'HP:0001337']\n",
      "Genes: ['ENSG00000186868', 'ENSG00000142192']\n",
      "---------\n",
      "Patient ID: 492\n",
      "True Label: Disease\n",
      "Predicted:  Disease\n",
      "Phenotypes: ['HP:0012378', 'HP:0009830']\n",
      "Genes: ['ENSG00000144285', 'ENSG00000186868']\n",
      "---------\n",
      "Patient ID: 478\n",
      "True Label: Disease\n",
      "Predicted:  Disease\n",
      "Phenotypes: ['HP:0000019', 'HP:0012378']\n",
      "Genes: ['ENSG00000142192']\n",
      "---------\n",
      "Patient ID: 315\n",
      "True Label: No Disease\n",
      "Predicted:  Disease\n",
      "Phenotypes: ['HP:0001251', 'HP:0010295']\n",
      "Genes: ['ENSG00000144285', 'ENSG00000146648']\n",
      "---------\n",
      "Patient ID: 484\n",
      "True Label: Disease\n",
      "Predicted:  Disease\n",
      "Phenotypes: ['HP:0100785', 'HP:0000713']\n",
      "Genes: ['ENSG00000188906']\n"
     ]
    }
   ],
   "source": [
    "import numpy as np\n",
    "sample_indices = np.random.choice(len(test_df), 5, replace=False)\n",
    "\n",
    "for i in sample_indices:\n",
    "    record = test_df.iloc[i]\n",
    "    x_ph = torch.tensor(pheno_mlb.transform([record['positive_phenotypes']])[0], dtype=torch.float32)\n",
    "    x_g  = torch.tensor(gene_mlb.transform([record['all_candidate_genes']])[0], dtype=torch.float32)\n",
    "    x_cl = torch.tensor(record['clinical_vec'], dtype=torch.float32)\n",
    "    x = torch.cat([x_ph, x_g, x_cl]).unsqueeze(0)\n",
    "\n",
    "    with torch.no_grad():\n",
    "        pred = model(x)\n",
    "    pred_label = 1 if pred.item() >= 0.5 else 0\n",
    "    true_label = 1 if record['true_diseases'] != 0 else 0\n",
    "\n",
    "    print(\"---------\")\n",
    "    print(f\"Patient ID: {record['id']}\")\n",
    "    print(f\"True Label: {'Disease' if true_label==1 else 'No Disease'}\")\n",
    "    print(f\"Predicted:  {'Disease' if pred_label==1 else 'No Disease'}\")\n",
    "    print(f\"Phenotypes: {record['positive_phenotypes']}\")\n",
    "    print(f\"Genes: {record['all_candidate_genes']}\")"
   ],
   "metadata": {
    "collapsed": false,
    "ExecuteTime": {
     "end_time": "2024-12-08T18:01:43.253884Z",
     "start_time": "2024-12-08T18:01:43.235665Z"
    }
   },
   "id": "6384bb1f60432fb1"
  },
  {
   "cell_type": "code",
   "execution_count": null,
   "outputs": [],
   "source": [],
   "metadata": {
    "collapsed": false
   },
   "id": "d6815fab312396be"
  }
 ],
 "metadata": {
  "kernelspec": {
   "display_name": "Python 3",
   "language": "python",
   "name": "python3"
  },
  "language_info": {
   "codemirror_mode": {
    "name": "ipython",
    "version": 2
   },
   "file_extension": ".py",
   "mimetype": "text/x-python",
   "name": "python",
   "nbconvert_exporter": "python",
   "pygments_lexer": "ipython2",
   "version": "2.7.6"
  }
 },
 "nbformat": 4,
 "nbformat_minor": 5
}
